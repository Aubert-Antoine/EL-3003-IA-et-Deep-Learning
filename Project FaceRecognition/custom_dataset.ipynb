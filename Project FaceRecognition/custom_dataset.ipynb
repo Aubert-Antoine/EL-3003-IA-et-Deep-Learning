{
 "cells": [
  {
   "cell_type": "markdown",
   "source": [
    "# Make a custom database :\n",
    "**The goal is to build a custom dataset to face recognition from scratch.**\n",
    "```bash\n",
    "custom_dataset\n",
    "├── firstname_lastname\n",
    "│   ├── File firstname_lastname0.jpeg\n",
    "│   └── File firstname_lastname1.jpeg\n",
    "├── firstname_lastname\n",
    "│   ├── File firstname_lastname0.jpeg\n",
    "│   └── File firstname_lastname1.jpeg\n",
    "├── ...\n",
    "│   ├── File firstname_lastname0.jpeg\n",
    "│   └── File firstname_lastname1.jpeg\n",
    "```\n",
    "### How to proceed step by step\n",
    "1. Take picture with your phone\n",
    "2. Rename them\n",
    "3. Crop in the faces and aligne them automatically\n",
    "4. compresse the picture\n",
    "5. Zip the folder and upload it to GitHub\n",
    "\n",
    "Once it is hosted on GitHub,  download it with `!wget url` and `!unzip filename`.\n",
    "\n",
    "\n",
    "> *The goal is that the database is accessible to everyone **without** any Google Drive credentials (partner and classmates)*"
   ],
   "metadata": {
    "collapsed": false
   }
  },
  {
   "cell_type": "code",
   "execution_count": 1,
   "outputs": [
    {
     "ename": "ModuleNotFoundError",
     "evalue": "No module named 'google.colab'",
     "output_type": "error",
     "traceback": [
      "\u001B[1;31m---------------------------------------------------------------------------\u001B[0m",
      "\u001B[1;31mModuleNotFoundError\u001B[0m                       Traceback (most recent call last)",
      "Cell \u001B[1;32mIn[1], line 1\u001B[0m\n\u001B[1;32m----> 1\u001B[0m \u001B[38;5;28;01mfrom\u001B[39;00m \u001B[38;5;21;01mgoogle\u001B[39;00m\u001B[38;5;21;01m.\u001B[39;00m\u001B[38;5;21;01mcolab\u001B[39;00m \u001B[38;5;28;01mimport\u001B[39;00m drive\n\u001B[0;32m      2\u001B[0m drive\u001B[38;5;241m.\u001B[39mmount(\u001B[38;5;124m'\u001B[39m\u001B[38;5;124m/content/drive\u001B[39m\u001B[38;5;124m'\u001B[39m)\n",
      "\u001B[1;31mModuleNotFoundError\u001B[0m: No module named 'google.colab'"
     ]
    }
   ],
   "source": [
    "from google.colab import drive\n",
    "drive.mount('/content/drive')"
   ],
   "metadata": {
    "collapsed": false
   }
  },
  {
   "cell_type": "code",
   "execution_count": null,
   "metadata": {
    "collapsed": true
   },
   "outputs": [],
   "source": []
  }
 ],
 "metadata": {
  "kernelspec": {
   "display_name": "Python 3",
   "language": "python",
   "name": "python3"
  },
  "language_info": {
   "codemirror_mode": {
    "name": "ipython",
    "version": 2
   },
   "file_extension": ".py",
   "mimetype": "text/x-python",
   "name": "python",
   "nbconvert_exporter": "python",
   "pygments_lexer": "ipython2",
   "version": "2.7.6"
  }
 },
 "nbformat": 4,
 "nbformat_minor": 0
}
