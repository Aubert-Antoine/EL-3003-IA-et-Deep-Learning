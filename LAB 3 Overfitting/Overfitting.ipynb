{
 "nbformat": 4,
 "nbformat_minor": 0,
 "metadata": {
  "kernelspec": {
   "display_name": "Python 3",
   "language": "python",
   "name": "python3"
  },
  "language_info": {
   "codemirror_mode": {
    "name": "ipython",
    "version": 3
   },
   "file_extension": ".py",
   "mimetype": "text/x-python",
   "name": "python",
   "nbconvert_exporter": "python",
   "pygments_lexer": "ipython3",
   "version": "3.6.8"
  },
  "nbTranslate": {
   "displayLangs": [
    "*"
   ],
   "hotkey": "alt-t",
   "langInMainMenu": true,
   "sourceLang": "en",
   "targetLang": "fr",
   "useGoogleTranslate": true
  },
  "colab": {
   "provenance": [],
   "collapsed_sections": [
    "EesaDIDiVnRk"
   ]
  }
 },
 "cells": [
  {
   "cell_type": "markdown",
   "metadata": {
    "id": "LwbrFw9kVnQO"
   },
   "source": [
    "# Lab3 - The problem of over-fitting\n",
    "\n",
    "---\n",
    "This notebook contains the code samples found in Section 3.4 and Section 4.4 of [Deep Learning with Python](https://www.manning.com/books/deep-learning-with-python?a_aid=keras&a_bid=76564dff).\n",
    "\n",
    "---\n",
    "\n",
    "The fundamental issue in machine learning is the tension between:\n",
    " - **Data fitting** - the process of adjusting a model to get the best performance possible on the training data; \n",
    " - **Generalization** - how well the trained model would perform on data it has never seen before. \n",
    "\n",
    "At the beginning of training, fitting and generalization are correlated: the lower your loss on training data, the lower your loss on  test data. While this is happening, your model is said to be **under-fit**: there is still progress to be made; the network hasn't yet modeled all relevant patterns in the training data. But after a certain number of iterations on the training data, generalization stops improving, test metrics stall then start degrading: the model is then starting to **over-fit**. In other words, it is starting to learn patterns  that are specific to the training data but that are misleading or irrelevant when it comes to new data.\n",
    "\n",
    "The goal is to achieve models that get a good generalization, so as to perform well on never-before-seen data. However, you do not control generalization; you can only adjust the model based on its training data. Therefore, it’s crucial to be able to reliably measure the generalization power of your model.\n",
    "\n",
    "#### Training, validation, and test sets\n",
    "\n",
    "Evaluating a model always boils down to splitting the available data into three sets: **training**, **validation**, and **test**. You train on the training data, and evaluate your model on the validation data. Once your model is ready for prime time, you test it one final time on the test data.\n",
    "\n",
    "*Why do we need separate sets?* \n",
    "\n",
    "You should never test a machine learning model on the same data that you used to train it! Just because a model performs well on its training data doesn't mean that it will perform well on data it has never seen, and what you actually care about is your model's performance on new data (since you already know the labels of your training data, obviously you don't need your model to predict those). For instance, it is possible that your model could end up merely *memorizing* a mapping between your training samples and their targets, which would be completely useless for the task of predicting targets for data never seen before. \n",
    "\n",
    "*Why not have two sets: a training set and a test set?* \n",
    "\n",
    "You’d train on the training data and evaluate on the test data. Much simpler! The reason is that developing a model always involves tuning its configuration: for\n",
    "example, choosing the number of layers or the size of the layers (called the hyper-parameters of the model, to distinguish them from the parameters, which are the network’s weights). You do this tuning by using as a feedback signal the performance of the model on the validation data. In essence, this tuning is a form of learning: a search\n",
    "for a good configuration in some parameter space. As a result, tuning the configuration of the model based on its performance on the validation set can quickly result in overfitting to the validation set, even though your model is never directly trained on it.\n",
    "\n",
    "Central to this phenomenon is the notion of information leaks. Every time you tune a hyperparameter of your model based on the model’s performance on the validation set, some information about the validation data leaks into the model. If you do this only once, for one parameter, then very few bits of information will leak, and your validation\n",
    "set will remain reliable to evaluate the model. But if you repeat this many times—running one experiment, evaluating on the validation set, and modifying your model as a result — then you’ll leak an increasingly significant amount of information about the validation set into the model.\n",
    "\n",
    "At the end of the day, you'll end up with a model that performs artificially well on the validation data, because that’s what you optimized it for. You care about performance on completely new data, not the validation data, so you need to use a completely different, never-before-seen, dataset to evaluate the model: the test set. Your model shouldn’t have had access to any information about the test set, even indirectly. If anything about the model has been tuned based on test set performance, then your measure of generalization will be flawed.\n",
    "\n",
    "Splitting your data into training, validation, and test sets may seem straightforward, but there are a few advanced ways to do it that can come in handy when little data is available. The two classic approaches are: *hold-out* validation, and *K-fold* validation.\n",
    "\n",
    "#### Things to keep in mind\n",
    "\n",
    "*Data representativeness* — You want both your training set and test set to be representative of the data at hand. For instance, if you’re trying to classify images of digits, and you’re starting from an array of samples where the samples are ordered by their class, taking the first 80% of the array as your training set and the remaining 20% as your test set will result in your training set containing only classes 0-7, whereas your test set contains only classes 8–9. This seems like a ridiculous mistake, but it’s surprisingly common. For this reason, you usually should randomly shuffle your data before splitting it into training and test sets.\n",
    "\n",
    "*The arrow of time* — If you’re trying to predict the future given the past (for example, tomorrow’s weather, stock movements, and so on), you should not randomly shuffle your data before splitting it, because doing so will create a temporal leak: your model will effectively be trained on data from the future. In such situations, you should always make sure all data in your test set is posterior to the data in the training set.\n",
    "\n",
    "*Redundancy in your data* — If some data points in your data appear twice (fairly common with real-world data), then shuffling the data, and splitting it into a training set and a validation set will result in redundancy between the training and validation sets. In effect, you’ll be testing on part of your training data, which is the worst thing you can do! Make sure your training set and validation set are disjoint."
   ]
  },
  {
   "cell_type": "markdown",
   "metadata": {
    "id": "DZAlh_UiVnQd"
   },
   "source": [
    "# 1. How to detect over-fitting\n",
    "\n",
    "We'll be working with \"IMDB dataset\", a set of 50,000 highly-polarized reviews from the Internet Movie Database. They are split into 25,000 reviews for training and 25,000 reviews for testing, each set consisting in 50% negative and 50% positive reviews. \n",
    "\n",
    "The IMDB dataset comes packaged with Keras. It has already been preprocessed: the reviews (sequences of words) \n",
    "have been turned into sequences of integers, where each integer stands for a specific word in a dictionary.\n",
    "\n",
    "The following code will load the dataset (when you run it for the first time, about 80MB of data will be downloaded to your machine)."
   ]
  },
  {
   "cell_type": "code",
   "metadata": {
    "colab": {
     "base_uri": "https://localhost:8080/"
    },
    "id": "51ZspdyxVnQf",
    "outputId": "8d720dd6-e5ef-4420-dc07-9c429d6fd404"
   },
   "source": [
    "from keras.datasets import imdb\n",
    "\n",
    "(train_data, train_labels), (test_data, test_labels) = imdb.load_data(num_words=10000)"
   ],
   "execution_count": null,
   "outputs": [
    {
     "output_type": "stream",
     "name": "stdout",
     "text": [
      "Downloading data from https://storage.googleapis.com/tensorflow/tf-keras-datasets/imdb.npz\n",
      "17464789/17464789 [==============================] - 0s 0us/step\n"
     ]
    }
   ]
  },
  {
   "cell_type": "markdown",
   "metadata": {
    "id": "tl7S8O9gVnQj"
   },
   "source": [
    "The argument `num_words=10000` means that we will only keep the top 10,000 most frequently occurring words in the training data. Rare words \n",
    "will be discarded. This allows us to work with vector data of manageable size.\n",
    "\n",
    "The variables `train_data` and `test_data` are lists of reviews, each review being a list of word indices (encoding a sequence of words). Moreover, `train_labels` and `test_labels` are lists of 0s and 1s, where 0 stands for \"negative\" and 1 stands for \"positive\"."
   ]
  },
  {
   "cell_type": "code",
   "metadata": {
    "colab": {
     "base_uri": "https://localhost:8080/"
    },
    "id": "dzVNJhMFVnQm",
    "outputId": "748c98ec-cf94-4723-9a56-61275cdbda7b"
   },
   "source": [
    "train_data[0]"
   ],
   "execution_count": null,
   "outputs": [
    {
     "output_type": "execute_result",
     "data": {
      "text/plain": [
       "[1,\n",
       " 14,\n",
       " 22,\n",
       " 16,\n",
       " 43,\n",
       " 530,\n",
       " 973,\n",
       " 1622,\n",
       " 1385,\n",
       " 65,\n",
       " 458,\n",
       " 4468,\n",
       " 66,\n",
       " 3941,\n",
       " 4,\n",
       " 173,\n",
       " 36,\n",
       " 256,\n",
       " 5,\n",
       " 25,\n",
       " 100,\n",
       " 43,\n",
       " 838,\n",
       " 112,\n",
       " 50,\n",
       " 670,\n",
       " 2,\n",
       " 9,\n",
       " 35,\n",
       " 480,\n",
       " 284,\n",
       " 5,\n",
       " 150,\n",
       " 4,\n",
       " 172,\n",
       " 112,\n",
       " 167,\n",
       " 2,\n",
       " 336,\n",
       " 385,\n",
       " 39,\n",
       " 4,\n",
       " 172,\n",
       " 4536,\n",
       " 1111,\n",
       " 17,\n",
       " 546,\n",
       " 38,\n",
       " 13,\n",
       " 447,\n",
       " 4,\n",
       " 192,\n",
       " 50,\n",
       " 16,\n",
       " 6,\n",
       " 147,\n",
       " 2025,\n",
       " 19,\n",
       " 14,\n",
       " 22,\n",
       " 4,\n",
       " 1920,\n",
       " 4613,\n",
       " 469,\n",
       " 4,\n",
       " 22,\n",
       " 71,\n",
       " 87,\n",
       " 12,\n",
       " 16,\n",
       " 43,\n",
       " 530,\n",
       " 38,\n",
       " 76,\n",
       " 15,\n",
       " 13,\n",
       " 1247,\n",
       " 4,\n",
       " 22,\n",
       " 17,\n",
       " 515,\n",
       " 17,\n",
       " 12,\n",
       " 16,\n",
       " 626,\n",
       " 18,\n",
       " 2,\n",
       " 5,\n",
       " 62,\n",
       " 386,\n",
       " 12,\n",
       " 8,\n",
       " 316,\n",
       " 8,\n",
       " 106,\n",
       " 5,\n",
       " 4,\n",
       " 2223,\n",
       " 5244,\n",
       " 16,\n",
       " 480,\n",
       " 66,\n",
       " 3785,\n",
       " 33,\n",
       " 4,\n",
       " 130,\n",
       " 12,\n",
       " 16,\n",
       " 38,\n",
       " 619,\n",
       " 5,\n",
       " 25,\n",
       " 124,\n",
       " 51,\n",
       " 36,\n",
       " 135,\n",
       " 48,\n",
       " 25,\n",
       " 1415,\n",
       " 33,\n",
       " 6,\n",
       " 22,\n",
       " 12,\n",
       " 215,\n",
       " 28,\n",
       " 77,\n",
       " 52,\n",
       " 5,\n",
       " 14,\n",
       " 407,\n",
       " 16,\n",
       " 82,\n",
       " 2,\n",
       " 8,\n",
       " 4,\n",
       " 107,\n",
       " 117,\n",
       " 5952,\n",
       " 15,\n",
       " 256,\n",
       " 4,\n",
       " 2,\n",
       " 7,\n",
       " 3766,\n",
       " 5,\n",
       " 723,\n",
       " 36,\n",
       " 71,\n",
       " 43,\n",
       " 530,\n",
       " 476,\n",
       " 26,\n",
       " 400,\n",
       " 317,\n",
       " 46,\n",
       " 7,\n",
       " 4,\n",
       " 2,\n",
       " 1029,\n",
       " 13,\n",
       " 104,\n",
       " 88,\n",
       " 4,\n",
       " 381,\n",
       " 15,\n",
       " 297,\n",
       " 98,\n",
       " 32,\n",
       " 2071,\n",
       " 56,\n",
       " 26,\n",
       " 141,\n",
       " 6,\n",
       " 194,\n",
       " 7486,\n",
       " 18,\n",
       " 4,\n",
       " 226,\n",
       " 22,\n",
       " 21,\n",
       " 134,\n",
       " 476,\n",
       " 26,\n",
       " 480,\n",
       " 5,\n",
       " 144,\n",
       " 30,\n",
       " 5535,\n",
       " 18,\n",
       " 51,\n",
       " 36,\n",
       " 28,\n",
       " 224,\n",
       " 92,\n",
       " 25,\n",
       " 104,\n",
       " 4,\n",
       " 226,\n",
       " 65,\n",
       " 16,\n",
       " 38,\n",
       " 1334,\n",
       " 88,\n",
       " 12,\n",
       " 16,\n",
       " 283,\n",
       " 5,\n",
       " 16,\n",
       " 4472,\n",
       " 113,\n",
       " 103,\n",
       " 32,\n",
       " 15,\n",
       " 16,\n",
       " 5345,\n",
       " 19,\n",
       " 178,\n",
       " 32]"
      ]
     },
     "metadata": {
      "tags": []
     },
     "execution_count": 2
    }
   ]
  },
  {
   "cell_type": "markdown",
   "metadata": {
    "id": "LypJbxeqVnQo"
   },
   "source": [
    "Since we restricted ourselves to the top 10,000 most frequent words, no word index will exceed 10,000.\n",
    "\n",
    "For kicks, here's how you can quickly decode one of these reviews back to English words."
   ]
  },
  {
   "cell_type": "code",
   "metadata": {
    "colab": {
     "base_uri": "https://localhost:8080/"
    },
    "id": "GvbE-rHMVnQq",
    "outputId": "3658f24a-7741-41d5-c1d8-b0561f45a98f"
   },
   "source": [
    "# word_index is a dictionary mapping words to an integer index\n",
    "word_index = imdb.get_word_index()\n",
    "\n",
    "# We reverse it, mapping integer indices to words\n",
    "reverse_word_index = dict([(value, key) for (key, value) in word_index.items()])\n",
    "\n",
    "# We decode the review; note that our indices were offset by 3\n",
    "# because 0, 1 and 2 are reserved indices for \"padding\", \"start of sequence\", and \"unknown\".\n",
    "decoded_review = ' '.join([reverse_word_index.get(i - 3, '?') for i in train_data[0]])\n",
    "\n",
    "print(decoded_review)"
   ],
   "execution_count": null,
   "outputs": [
    {
     "output_type": "stream",
     "name": "stdout",
     "text": [
      "Downloading data from https://storage.googleapis.com/tensorflow/tf-keras-datasets/imdb_word_index.json\n",
      "1641221/1641221 [==============================] - 0s 0us/step\n",
      "? this film was just brilliant casting location scenery story direction everyone's really suited the part they played and you could just imagine being there robert ? is an amazing actor and now the same being director ? father came from the same scottish island as myself so i loved the fact there was a real connection with this film the witty remarks throughout the film were great it was just brilliant so much that i bought the film as soon as it was released for ? and would recommend it to everyone to watch and the fly fishing was amazing really cried at the end it was so sad and you know what they say if you cry at a film it must have been good and this definitely was also ? to the two little boy's that played the ? of norman and paul they were just brilliant children are often left out of the ? list i think because the stars that play them all grown up are such a big profile for the whole film but these children are amazing and should be praised for what they have done don't you think the whole story was so lovely because it was true and was someone's life after all that was shared with us all\n"
     ]
    }
   ]
  },
  {
   "cell_type": "markdown",
   "metadata": {
    "id": "3if9w9WjVnQt"
   },
   "source": [
    "## 1.1 Preparing the data\n",
    "\n",
    "We cannot feed lists of integers into a neural network. We have to turn our lists into tensors. There are two ways we could do that:\n",
    "\n",
    "- We could pad our lists so that they all have the same length, and turn them into an integer tensor of shape `(samples, word_indices)`, then use as first layer in our network a layer capable of handling such integer tensors (the `Embedding` layer, which is covered in Chapter 6 of the book).\n",
    "\n",
    "- We could one-hot encode our lists to turn them into vectors of 0s and 1s. Concretely, this would mean for instance turning the sequence `[3, 5]` into a 10,000-dimensional vector that would be all-zeros except for indices 3 and 5, which would be ones. Then we could use as first layer in our network a `Dense` layer, capable of handling floating point vector data.\n",
    "\n",
    "We will go with the latter solution. Let's vectorize our data, which we will do manually for maximum clarity."
   ]
  },
  {
   "cell_type": "code",
   "metadata": {
    "id": "ljIIFeNAVnQw"
   },
   "source": [
    "import numpy as np\n",
    "\n",
    "def vectorize_sequences(sequences, dimension=10000):\n",
    "    results = np.zeros((len(sequences), dimension))\n",
    "    for i, sequence in enumerate(sequences):\n",
    "        results[i, sequence] = 1.0\n",
    "    return results\n",
    "\n",
    "# Our vectorized training data\n",
    "x_train = vectorize_sequences(train_data)\n",
    "\n",
    "# Our vectorized test data\n",
    "x_test = vectorize_sequences(test_data)"
   ],
   "execution_count": null,
   "outputs": []
  },
  {
   "cell_type": "markdown",
   "metadata": {
    "id": "LZAyuQwyVnQy"
   },
   "source": [
    "Here's what our samples look like now:"
   ]
  },
  {
   "cell_type": "code",
   "metadata": {
    "colab": {
     "base_uri": "https://localhost:8080/"
    },
    "id": "i8QtTjmOVnQ1",
    "outputId": "8a4c7162-d60a-4c58-f684-1da6ee242648"
   },
   "source": [
    "x_train[0]"
   ],
   "execution_count": null,
   "outputs": [
    {
     "output_type": "execute_result",
     "data": {
      "text/plain": [
       "array([0., 1., 1., ..., 0., 0., 0.])"
      ]
     },
     "metadata": {},
     "execution_count": 9
    }
   ]
  },
  {
   "cell_type": "markdown",
   "metadata": {
    "id": "GuES6xVuVnQ2"
   },
   "source": [
    "We should also vectorize our labels, which is straightforward:"
   ]
  },
  {
   "cell_type": "code",
   "metadata": {
    "id": "IpSgaY5tVnQ3"
   },
   "source": [
    "# Our vectorized labels\n",
    "y_train = np.asarray(train_labels).astype('float32')\n",
    "y_test = np.asarray(test_labels).astype('float32')"
   ],
   "execution_count": null,
   "outputs": []
  },
  {
   "cell_type": "markdown",
   "metadata": {
    "id": "AvRxoou2VnQ3"
   },
   "source": [
    "Now our data is ready to be fed into a neural network."
   ]
  },
  {
   "cell_type": "markdown",
   "metadata": {
    "id": "2tU_Nkf4VnQ4"
   },
   "source": [
    "## 1.2 Building our network\n",
    "\n",
    "\n",
    "Our input data is simply vectors, and our labels are scalars (1s and 0s): this is the easiest setup you will ever encounter. A type of network that performs well on such a problem would be a simple stack of fully-connected layers with ReLU activations. There are two key architecture decisions to be made about such stack of dense layers:\n",
    "\n",
    "* How many layers to use.\n",
    "* How many units to chose for each layer.\n",
    " \n",
    "For the time being, you will use two hidden layers with 16 units each, and a third layer which will output the scalar prediction regarding the sentiment of the current review. The intermediate layers will use a *ReLU* activation, whereas the final layer will use a *sigmoid* activation. \n",
    "\n",
    "---\n",
    "**Remember**\n",
    "\n",
    "The ReLU is a function meant to zero-out negative values, whereas the sigmoid is a function that squashes arbitrary values into the `[0, 1]` interval, so as to output something that can be interpreted as a probability (how likely the sample is to have the target \"1\").\n",
    "\n",
    "\n",
    "A fully-connected layer with 16 units means that the layer's input data are projected onto a 16-dimensional representation space. You can intuitively understand the dimensionality of your representation space as \"how much freedom you are allowing the network to have when learning internal representations\". Having more units (a higher-dimensional representation space) allows your network to learn more complex representations, but it makes your network more computationally expensive and may lead to learning unwanted patterns (patterns that will improve performance on the training data, but not on the test data).\n",
    "\n",
    "---"
   ]
  },
  {
   "cell_type": "markdown",
   "metadata": {
    "id": "4IuRI_G4VnQ5"
   },
   "source": [
    "## ===== Exercise =====\n",
    "\n",
    "Complete the code below with the Keras implementation of the network. Check out the [documentation](https://keras.io/layers/core/) to get familiar with Keras layers."
   ]
  },
  {
   "cell_type": "code",
   "metadata": {
    "id": "ZfrIAcs2VnQ6"
   },
   "source": [
    "#@title\n",
    "from keras import models\n",
    "from keras import layers\n",
    "\n",
    "model = models.Sequential()\n",
    "\n",
    "# Layer with 16 units and 'relu' activation\n",
    "model.add(layers.Dense(16, activation='relu', input_shape=(10000,))) # ADD CODE HERE\n",
    "\n",
    "# Layer with 16 units and 'relu' activation\n",
    "model.add( layers.Dense(16, activation='relu') ) # AD CODE HERE\n",
    "\n",
    "# Layer with 1 unit and 'sigmoid' activation (REMARK: sigmoid is for binary classification)\n",
    "model.add(layers.Dense(1, activation='sigmoid')) # ADD CODE HERE"
   ],
   "execution_count": null,
   "outputs": []
  },
  {
   "cell_type": "markdown",
   "metadata": {
    "id": "sRKxsWKBVnQ6"
   },
   "source": [
    "Lastly, we need to pick a loss function and an optimizer. Since we are facing a binary classification problem and the output of our network is a probability (we end our network with a single-unit layer with a sigmoid activation), it is best to use the `binary_crossentropy` loss. Crossentropy is a quantity from the field of Information Theory, that measures the \"distance\" between probability distributions, or in our case, between the ground-truth distribution and our predictions.\n",
    "\n",
    "Here's the step where we configure our model with the optimizer and the loss function. Note that we will also monitor accuracy during training."
   ]
  },
  {
   "cell_type": "markdown",
   "metadata": {
    "id": "gIRhrlMnVnQ7"
   },
   "source": [
    "## ===== Exercise =====\n",
    "\n",
    "Complete the code below by specifying the `adam` optimizer and the `binary_crossentropy` loss function."
   ]
  },
  {
   "cell_type": "code",
   "metadata": {
    "id": "C5E57LqxVnQ7"
   },
   "source": [
    "model.compile(optimizer='adam', loss='binary_crossentropy', metrics=['accuracy']) # ADD CODE HERE"
   ],
   "execution_count": null,
   "outputs": []
  },
  {
   "cell_type": "markdown",
   "metadata": {
    "id": "JMRM8v00VnQ9"
   },
   "source": [
    "## 1.3 Validating your approach\n",
    "\n",
    "In order to monitor during training the accuracy of the model on data that it has never seen before, we will create a \"validation set\" by setting apart 10,000 samples from the original training data."
   ]
  },
  {
   "cell_type": "code",
   "metadata": {
    "id": "TmN0GakXVnQ9"
   },
   "source": [
    "x_val = x_train[:10000]\n",
    "partial_x_train = x_train[10000:]\n",
    "\n",
    "y_val = y_train[:10000]\n",
    "partial_y_train = y_train[10000:]"
   ],
   "execution_count": null,
   "outputs": []
  },
  {
   "cell_type": "markdown",
   "metadata": {
    "id": "mHLOuX6KVnQ-"
   },
   "source": [
    "We will now train our model for 20 epochs (20 iterations over all samples in `partial_x_train` and `partial_y_train`), in mini-batches of 512 samples. At this same time, we will monitor loss and accuracy on the 10,000 samples that we set apart (`x_val` and `y_val`). This is done by passing the validation set as the `validation_data` argument."
   ]
  },
  {
   "cell_type": "markdown",
   "metadata": {
    "id": "b0AAwQigVnQ-"
   },
   "source": [
    "## ===== Exercise =====\n",
    "\n",
    "Complete the code below as follows:\n",
    "- Use `partial_x_train` and `partial_y_train` as **training data**.\n",
    "\n",
    "\n",
    "- Set 20 epochs and batchs of size 512.\n",
    "\n",
    "\n",
    "- Use `(x_val, y_val)` as **validation data**."
   ]
  },
  {
   "cell_type": "code",
   "metadata": {
    "id": "KGlSa0WlVnQ-",
    "outputId": "323a3ec3-71a5-4dbb-93b4-43af2f2d4416",
    "colab": {
     "base_uri": "https://localhost:8080/"
    }
   },
   "source": [
    "history = model.fit(partial_x_train, partial_y_train, epochs=20, batch_size=512, validation_data=(x_val, y_val)) # ADD CODE HERE"
   ],
   "execution_count": null,
   "outputs": [
    {
     "output_type": "stream",
     "name": "stdout",
     "text": [
      "Epoch 1/20\n",
      "30/30 [==============================] - 4s 73ms/step - loss: 0.6159 - accuracy: 0.7403 - val_loss: 0.4843 - val_accuracy: 0.8289\n",
      "Epoch 2/20\n",
      "30/30 [==============================] - 1s 35ms/step - loss: 0.3626 - accuracy: 0.8825 - val_loss: 0.3194 - val_accuracy: 0.8846\n",
      "Epoch 3/20\n",
      "30/30 [==============================] - 1s 35ms/step - loss: 0.2335 - accuracy: 0.9244 - val_loss: 0.2808 - val_accuracy: 0.8898\n",
      "Epoch 4/20\n",
      "30/30 [==============================] - 1s 34ms/step - loss: 0.1733 - accuracy: 0.9454 - val_loss: 0.2762 - val_accuracy: 0.8883\n",
      "Epoch 5/20\n",
      "30/30 [==============================] - 1s 37ms/step - loss: 0.1341 - accuracy: 0.9595 - val_loss: 0.2842 - val_accuracy: 0.8878\n",
      "Epoch 6/20\n",
      "30/30 [==============================] - 1s 36ms/step - loss: 0.1049 - accuracy: 0.9711 - val_loss: 0.3004 - val_accuracy: 0.8844\n",
      "Epoch 7/20\n",
      "30/30 [==============================] - 1s 36ms/step - loss: 0.0810 - accuracy: 0.9803 - val_loss: 0.3216 - val_accuracy: 0.8803\n",
      "Epoch 8/20\n",
      "30/30 [==============================] - 1s 48ms/step - loss: 0.0616 - accuracy: 0.9882 - val_loss: 0.3453 - val_accuracy: 0.8808\n",
      "Epoch 9/20\n",
      "30/30 [==============================] - 2s 51ms/step - loss: 0.0462 - accuracy: 0.9933 - val_loss: 0.3733 - val_accuracy: 0.8772\n",
      "Epoch 10/20\n",
      "30/30 [==============================] - 1s 40ms/step - loss: 0.0338 - accuracy: 0.9962 - val_loss: 0.4032 - val_accuracy: 0.8753\n",
      "Epoch 11/20\n",
      "30/30 [==============================] - 1s 35ms/step - loss: 0.0245 - accuracy: 0.9984 - val_loss: 0.4293 - val_accuracy: 0.8758\n",
      "Epoch 12/20\n",
      "30/30 [==============================] - 1s 36ms/step - loss: 0.0175 - accuracy: 0.9992 - val_loss: 0.4559 - val_accuracy: 0.8755\n",
      "Epoch 13/20\n",
      "30/30 [==============================] - 1s 33ms/step - loss: 0.0128 - accuracy: 0.9997 - val_loss: 0.4804 - val_accuracy: 0.8730\n",
      "Epoch 14/20\n",
      "30/30 [==============================] - 1s 36ms/step - loss: 0.0095 - accuracy: 0.9998 - val_loss: 0.5025 - val_accuracy: 0.8724\n",
      "Epoch 15/20\n",
      "30/30 [==============================] - 1s 36ms/step - loss: 0.0072 - accuracy: 0.9999 - val_loss: 0.5227 - val_accuracy: 0.8712\n",
      "Epoch 16/20\n",
      "30/30 [==============================] - 1s 35ms/step - loss: 0.0056 - accuracy: 1.0000 - val_loss: 0.5428 - val_accuracy: 0.8714\n",
      "Epoch 17/20\n",
      "30/30 [==============================] - 1s 33ms/step - loss: 0.0045 - accuracy: 1.0000 - val_loss: 0.5590 - val_accuracy: 0.8709\n",
      "Epoch 18/20\n",
      "30/30 [==============================] - 1s 33ms/step - loss: 0.0036 - accuracy: 1.0000 - val_loss: 0.5727 - val_accuracy: 0.8711\n",
      "Epoch 19/20\n",
      "30/30 [==============================] - 1s 37ms/step - loss: 0.0030 - accuracy: 1.0000 - val_loss: 0.5873 - val_accuracy: 0.8701\n",
      "Epoch 20/20\n",
      "30/30 [==============================] - 2s 61ms/step - loss: 0.0026 - accuracy: 1.0000 - val_loss: 0.6020 - val_accuracy: 0.8700\n"
     ]
    }
   ]
  },
  {
   "cell_type": "markdown",
   "metadata": {
    "id": "WDgdcYXkVnRA"
   },
   "source": [
    "On CPU, this will take a few seconds per epoch: training is over in a couple of minutes. At the end of every epoch, there is a slight pause as the model computes its loss and accuracy on the 10,000 samples of the validation data.\n",
    "\n",
    "Note that the call to `model.fit()` returns a `History` object. This object has a member `history`, which is a dictionary containing data about everything that happened during training. It contains 4 entries: one per metric that was being monitored, during training and during test. Let's use Matplotlib to plot the training and test loss side by side, as well as the training and test accuracy."
   ]
  },
  {
   "cell_type": "code",
   "metadata": {
    "id": "YdGPa7xQVnRI",
    "outputId": "688853e5-fb0b-4656-bc00-b1f795269e5f",
    "colab": {
     "base_uri": "https://localhost:8080/",
     "height": 295
    }
   },
   "source": [
    "import matplotlib.pyplot as plt\n",
    "\n",
    "train_acc = history.history['accuracy']\n",
    "test_acc = history.history['val_accuracy']\n",
    "train_loss = history.history['loss']\n",
    "test_loss = history.history['val_loss']\n",
    "\n",
    "epochs = range(1, len(train_acc) + 1)\n",
    "\n",
    "plt.plot(epochs, train_loss, linestyle='-', color='b', label='Training loss')\n",
    "plt.plot(epochs, test_loss, linestyle='-', color='m', label='Test loss')\n",
    "\n",
    "plt.title('Training and test loss')\n",
    "plt.xlabel('Epochs')\n",
    "plt.ylabel('Loss')\n",
    "plt.legend()\n",
    "\n",
    "plt.show()"
   ],
   "execution_count": null,
   "outputs": [
    {
     "output_type": "display_data",
     "data": {
      "text/plain": [
       "<Figure size 432x288 with 1 Axes>"
      ],
      "image/png": "[encoded data removed]"
     },
     "metadata": {
      "needs_background": "light"
     }
    }
   ]
  },
  {
   "cell_type": "code",
   "metadata": {
    "id": "bZEd7SngVnRL",
    "outputId": "2917773c-0b33-4963-f978-6f5aef4616f9",
    "colab": {
     "base_uri": "https://localhost:8080/",
     "height": 295
    }
   },
   "source": [
    "plt.clf()   # clear figure\n",
    "\n",
    "plt.plot(epochs, train_acc, 'b', label='Training accuracy')\n",
    "plt.plot(epochs,  test_acc, 'm', label='Test accuracy')\n",
    "\n",
    "plt.title('Training and test accuracy')\n",
    "plt.xlabel('Epochs')\n",
    "plt.ylabel('Accuracy')\n",
    "plt.legend()\n",
    "\n",
    "plt.show()"
   ],
   "execution_count": null,
   "outputs": [
    {
     "output_type": "display_data",
     "data": {
      "text/plain": [
       "<Figure size 432x288 with 1 Axes>"
      ],
      "image/png": "[encoded data removed]"
     },
     "metadata": {
      "needs_background": "light"
     }
    }
   ]
  },
  {
   "cell_type": "markdown",
   "metadata": {
    "id": "LJKDv6NKVnRL"
   },
   "source": [
    "As you can see, the training loss decreases with every epoch and the training accuracy increases with every epoch. That's what you would expect when running gradient descent optimization: the quantity you are trying to minimize should get lower with every iteration. But that isn't the case for the test loss and accuracy: they seem to peak after few epochs. This is an example of what we were warning against earlier: a model that performs better on the training data isn't necessarily a model that will do better on data it has never seen before. In precise terms, what you are seeing is **over-fitting**: after few epochs, we are over-optimizing on the training data, and we ended up learning representations that are specific to the training data and do not generalize to new data (i.e., data outside of the training set)."
   ]
  },
  {
   "cell_type": "markdown",
   "metadata": {
    "id": "bB4AdGXQVnRM"
   },
   "source": [
    "## 1.4 Testing on new data\n",
    "\n",
    "After having trained a network, you will want to use it on new data. You can generate the likelihood of reviews being positive by using the `predict` method. As you can see, the network is very confident for some samples (0.99 or more, or 0.01 or less) but less confident for others (0.6, 0.4)."
   ]
  },
  {
   "cell_type": "code",
   "metadata": {
    "id": "rcgmnIK_VnRM",
    "outputId": "dae7685d-958b-4830-c0dc-615f4e80b95d",
    "colab": {
     "base_uri": "https://localhost:8080/"
    }
   },
   "source": [
    "proba = model.predict(x_test)\n",
    "\n",
    "print(proba.shape)"
   ],
   "execution_count": null,
   "outputs": [
    {
     "output_type": "stream",
     "name": "stdout",
     "text": [
      "782/782 [==============================] - 2s 2ms/step\n",
      "(25000, 1)\n"
     ]
    }
   ]
  },
  {
   "cell_type": "markdown",
   "metadata": {
    "id": "B3FtJa1fVnRN"
   },
   "source": [
    "Moreover, you can evaluate the network on our test data by using the `evaluate` method."
   ]
  },
  {
   "cell_type": "code",
   "metadata": {
    "id": "mstlNfHLVnRN",
    "outputId": "77a2f615-3c59-4a05-ae9d-be2fdb84e08f",
    "colab": {
     "base_uri": "https://localhost:8080/"
    }
   },
   "source": [
    "results = model.evaluate(x_test, y_test)\n",
    "\n",
    "print()\n",
    "print(\"Test accuracy: {:2.2f}%\".format(results[1]*100))"
   ],
   "execution_count": null,
   "outputs": [
    {
     "output_type": "stream",
     "name": "stdout",
     "text": [
      "782/782 [==============================] - 2s 2ms/step - loss: 0.6502 - accuracy: 0.8574\n",
      "\n",
      "Test accuracy: 85.74%\n"
     ]
    }
   ]
  },
  {
   "cell_type": "markdown",
   "metadata": {
    "id": "kTDypTezqf0J"
   },
   "source": [
    "We need to clean the memory before building the other networks, as this takes a lot of memory"
   ]
  },
  {
   "cell_type": "code",
   "metadata": {
    "id": "HFFAVfS3qwN9",
    "outputId": "65531150-7da4-4a58-dd47-19d424eeb98e",
    "colab": {
     "base_uri": "https://localhost:8080/"
    }
   },
   "source": [
    "import tensorflow as tf\n",
    "import gc\n",
    "tf.keras.backend.clear_session()\n",
    "del model\n",
    "gc.collect()"
   ],
   "execution_count": null,
   "outputs": [
    {
     "output_type": "execute_result",
     "data": {
      "text/plain": [
       "841"
      ]
     },
     "metadata": {},
     "execution_count": 23
    }
   ]
  },
  {
   "cell_type": "markdown",
   "metadata": {
    "id": "3A-fixFpVnRN"
   },
   "source": [
    "Our over-fitted network achieves an accuracy of 85%. In this case, to prevent overfitting, we could simply stop training after few epochs. This is called **early stopping**. So, let's train a new network from scratch, then evaluate it on our test data."
   ]
  },
  {
   "cell_type": "code",
   "metadata": {
    "id": "8Z0ZRqrwVnRW",
    "outputId": "9720b287-56e0-4ace-8c81-ae15e12b1247",
    "colab": {
     "base_uri": "https://localhost:8080/"
    }
   },
   "source": [
    "model = models.Sequential()\n",
    "model.add(layers.Dense(16, activation='relu', input_shape=(10000,)))\n",
    "model.add(layers.Dense(16, activation='relu'))\n",
    "model.add(layers.Dense(1, activation='sigmoid'))\n",
    "\n",
    "model.compile(optimizer='adam', loss='binary_crossentropy', metrics=['accuracy'])\n",
    "\n",
    "model.fit(x_train, y_train, epochs=4, batch_size=512)\n",
    "results = model.evaluate(x_test, y_test)\n",
    "\n",
    "print()\n",
    "print(\"Test accuracy: {:2.2f}%\".format(results[1]*100))"
   ],
   "execution_count": null,
   "outputs": [
    {
     "output_type": "stream",
     "name": "stdout",
     "text": [
      "Epoch 1/4\n",
      "49/49 [==============================] - 2s 31ms/step - loss: 0.5554 - accuracy: 0.7366\n",
      "Epoch 2/4\n",
      "49/49 [==============================] - 2s 37ms/step - loss: 0.2847 - accuracy: 0.9052\n",
      "Epoch 3/4\n",
      "49/49 [==============================] - 1s 28ms/step - loss: 0.1938 - accuracy: 0.9321\n",
      "Epoch 4/4\n",
      "49/49 [==============================] - 1s 25ms/step - loss: 0.1500 - accuracy: 0.9500\n",
      "782/782 [==============================] - 2s 2ms/step - loss: 0.3058 - accuracy: 0.8817\n",
      "\n",
      "Test accuracy: 88.17%\n"
     ]
    }
   ]
  },
  {
   "cell_type": "markdown",
   "metadata": {
    "id": "sJbvGh2ZVnRX"
   },
   "source": [
    "Early stopping allows us to achieve an accuracy of 88%, striking an improvement of 3%. \n",
    "\n",
    "In general, there is a range of techniques we can leverage to mitigate overfitting, which are covered in the following."
   ]
  },
  {
   "cell_type": "markdown",
   "metadata": {
    "id": "cU50CoKJtUAL"
   },
   "source": [
    "Clean the memory again"
   ]
  },
  {
   "cell_type": "code",
   "metadata": {
    "id": "S0aAJUZEtXFD",
    "outputId": "892a9376-b962-47b9-b70d-dd6597e35e94",
    "colab": {
     "base_uri": "https://localhost:8080/"
    }
   },
   "source": [
    "tf.keras.backend.clear_session()\n",
    "del model\n",
    "gc.collect()"
   ],
   "execution_count": null,
   "outputs": [
    {
     "output_type": "execute_result",
     "data": {
      "text/plain": [
       "1610"
      ]
     },
     "metadata": {},
     "execution_count": 25
    }
   ]
  },
  {
   "cell_type": "markdown",
   "metadata": {
    "id": "PyfP8eWVVnRY"
   },
   "source": [
    "# 2. How to fight against over-fitting\n",
    "\n",
    "In the previous example, we could notice that the performance of our model on the test data peaked after a few epochs, and then started degrading. This clearly indicated that our model *overfitted* to the training data. The problem of overfitting happens in every single machine learning task. Learning how to deal with overfitting is essential to mastering machine learning. \n",
    "\n",
    "To prevent a model from over-fitting (i.e., learning misleading or irrelevant patterns found in the training data), the best solution is to *get more training data*. A model trained on more data will naturally generalize better. When that is no longer possible, the next best solution is to modulate the quantity of information that your model is allowed to store, or to add constraints on what information it is allowed to store. If a network can only afford to memorize a small number of patterns, the optimization process will force it to focus on the most prominent patterns, which have a better chance of generalizing well.\n",
    "\n",
    "The process of fighting overfitting in this way is called *regularization*. Let's review some of the most common regularization techniques, and let's apply them in practice to improve our movie classification model from the previous tutorial."
   ]
  },
  {
   "cell_type": "markdown",
   "metadata": {
    "id": "TuFO_EfXVnRY"
   },
   "source": [
    "## 2.1 Reducing the network's size\n",
    "\n",
    "The simplest way to prevent overfitting is to reduce the size of the model, i.e. the number of learnable parameters in the model (which is determined by the number of layers and the number of units per layer). In deep learning, the number of learnable parameters in a model is often referred to as the model's \"capacity\". Intuitively, a model with more parameters will have more \"memorization capacity\" and therefore will be able to easily learn a perfect dictionary-like mapping between training samples and their targets, a mapping without any generalization power. For instance, a model with 500,000 binary parameters could easily be made to learn the class of every digits in the \n",
    "MNIST training set: we would only need 10 binary parameters for each of the 50,000 digits. Such a model would be useless for classifying new digit samples. Always keep this in mind: deep learning models tend to be good at fitting to the training data, but the real challenge is generalization, not fitting.\n",
    "\n",
    "On the other hand, if the network has limited memorization resources, it will not be able to learn this mapping as easily, and thus, in order to minimize its loss, it will have to resort to learning compressed representations that have predictive power regarding the targets -- precisely the type of representations that we are interested in. At the same time, keep in mind that you should be using models that have enough parameters that they won't be underfitting: your model shouldn't be starved for memorization resources. There is a compromise to be found between \"too much capacity\" and \"not enough capacity\".\n",
    "\n",
    "Unfortunately, there is no magical formula to determine what the right number of layers is, or what the right size for each layer is. You will have to evaluate an array of different architectures (on your validation set, not on your test set), in order to find the right model size for your data. The general workflow to find an appropriate model size is to start with relatively few layers and parameters, and start increasing the size of the layers or adding new layers until you see diminishing returns with regard to the validation loss.\n",
    "\n",
    "Let's try this on our movie review classification network. Our original network was as such. \n",
    "\n",
    "---\n",
    "**Note:** We will be using the test set as our validation set. It doesn't matter in this context.\n",
    "\n",
    "---"
   ]
  },
  {
   "cell_type": "code",
   "metadata": {
    "id": "tPYi0-2uVnRY",
    "outputId": "b9ae6982-fa52-4db0-95dc-c392ffad7a27",
    "colab": {
     "base_uri": "https://localhost:8080/"
    }
   },
   "source": [
    "original_model = models.Sequential()\n",
    "original_model.add(layers.Dense(16, activation='relu', input_shape=(10000,)))\n",
    "original_model.add(layers.Dense(16, activation='relu'))\n",
    "original_model.add(layers.Dense(1, activation='sigmoid'))\n",
    "\n",
    "original_model.compile(optimizer='adam', loss='binary_crossentropy', metrics=['acc'])\n",
    "\n",
    "original_hist = original_model.fit(x_train, y_train, epochs=20, batch_size=512, validation_data=(x_test, y_test))"
   ],
   "execution_count": null,
   "outputs": [
    {
     "output_type": "stream",
     "name": "stdout",
     "text": [
      "Epoch 1/20\n",
      "49/49 [==============================] - 4s 63ms/step - loss: 0.4843 - acc: 0.8136 - val_loss: 0.3442 - val_acc: 0.8728\n",
      "Epoch 2/20\n",
      "49/49 [==============================] - 3s 54ms/step - loss: 0.2565 - acc: 0.9102 - val_loss: 0.2875 - val_acc: 0.8853\n",
      "Epoch 3/20\n",
      "49/49 [==============================] - 2s 44ms/step - loss: 0.1891 - acc: 0.9338 - val_loss: 0.2863 - val_acc: 0.8859\n",
      "Epoch 4/20\n",
      "49/49 [==============================] - 2s 39ms/step - loss: 0.1503 - acc: 0.9490 - val_loss: 0.3030 - val_acc: 0.8818\n",
      "Epoch 5/20\n",
      "49/49 [==============================] - 2s 36ms/step - loss: 0.1225 - acc: 0.9594 - val_loss: 0.3275 - val_acc: 0.8777\n",
      "Epoch 6/20\n",
      "49/49 [==============================] - 2s 35ms/step - loss: 0.1004 - acc: 0.9694 - val_loss: 0.3574 - val_acc: 0.8716\n",
      "Epoch 7/20\n",
      "49/49 [==============================] - 2s 38ms/step - loss: 0.0806 - acc: 0.9774 - val_loss: 0.3917 - val_acc: 0.8677\n",
      "Epoch 8/20\n",
      "49/49 [==============================] - 3s 52ms/step - loss: 0.0635 - acc: 0.9846 - val_loss: 0.4289 - val_acc: 0.8656\n",
      "Epoch 9/20\n",
      "49/49 [==============================] - 2s 46ms/step - loss: 0.0494 - acc: 0.9901 - val_loss: 0.4703 - val_acc: 0.8622\n",
      "Epoch 10/20\n",
      "49/49 [==============================] - 2s 37ms/step - loss: 0.0376 - acc: 0.9937 - val_loss: 0.5041 - val_acc: 0.8614\n",
      "Epoch 11/20\n",
      "49/49 [==============================] - 2s 39ms/step - loss: 0.0275 - acc: 0.9962 - val_loss: 0.5472 - val_acc: 0.8586\n",
      "Epoch 12/20\n",
      "49/49 [==============================] - 2s 36ms/step - loss: 0.0207 - acc: 0.9977 - val_loss: 0.5792 - val_acc: 0.8588\n",
      "Epoch 13/20\n",
      "49/49 [==============================] - 2s 39ms/step - loss: 0.0151 - acc: 0.9989 - val_loss: 0.6147 - val_acc: 0.8572\n",
      "Epoch 14/20\n",
      "49/49 [==============================] - 2s 39ms/step - loss: 0.0112 - acc: 0.9994 - val_loss: 0.6503 - val_acc: 0.8558\n",
      "Epoch 15/20\n",
      "49/49 [==============================] - 3s 67ms/step - loss: 0.0085 - acc: 0.9998 - val_loss: 0.6790 - val_acc: 0.8564\n",
      "Epoch 16/20\n",
      "49/49 [==============================] - 2s 38ms/step - loss: 0.0065 - acc: 0.9999 - val_loss: 0.7059 - val_acc: 0.8558\n",
      "Epoch 17/20\n",
      "49/49 [==============================] - 2s 38ms/step - loss: 0.0051 - acc: 0.9999 - val_loss: 0.7340 - val_acc: 0.8548\n",
      "Epoch 18/20\n",
      "49/49 [==============================] - 2s 38ms/step - loss: 0.0038 - acc: 1.0000 - val_loss: 0.7733 - val_acc: 0.8544\n",
      "Epoch 19/20\n",
      "49/49 [==============================] - 2s 40ms/step - loss: 0.0028 - acc: 1.0000 - val_loss: 0.8126 - val_acc: 0.8539\n",
      "Epoch 20/20\n",
      "49/49 [==============================] - 2s 39ms/step - loss: 0.0021 - acc: 1.0000 - val_loss: 0.8507 - val_acc: 0.8542\n"
     ]
    }
   ]
  },
  {
   "cell_type": "code",
   "metadata": {
    "id": "Xt75fQNZthOE",
    "outputId": "1d6c875d-6b63-41ee-ee1c-eac3a2fce51a",
    "colab": {
     "base_uri": "https://localhost:8080/"
    }
   },
   "source": [
    "# Clean the memory\n",
    "tf.keras.backend.clear_session()\n",
    "del original_model\n",
    "gc.collect()"
   ],
   "execution_count": null,
   "outputs": [
    {
     "output_type": "execute_result",
     "data": {
      "text/plain": [
       "2805"
      ]
     },
     "metadata": {},
     "execution_count": 27
    }
   ]
  },
  {
   "cell_type": "markdown",
   "metadata": {
    "id": "JtJ4SvoOVnRZ"
   },
   "source": [
    "## ===== Exercise =====\n",
    "\n",
    "Now let's try to replace it with this smaller network:\n",
    " - First layer with 4 units and 'relu' activation. *Don't forget to set the input shape!*\n",
    " \n",
    " \n",
    " - Second layer with 4 units and 'relu' activation.\n",
    " \n",
    " \n",
    " - Output layer with 1 unit and 'sigmoid' activation.\n",
    " \n",
    " \n",
    " - Loss function is binary crossentropy."
   ]
  },
  {
   "cell_type": "code",
   "metadata": {
    "id": "EeHmlcBAVnRZ",
    "outputId": "d60dbfcf-6d2a-4e4f-b8d4-1bf51c01dcf7",
    "colab": {
     "base_uri": "https://localhost:8080/"
    }
   },
   "source": [
    "smaller_model = models.Sequential()\n",
    "smaller_model.add(layers.Dense(4, activation='relu', input_shape=(10000,))) # ADD CODE HERE\n",
    "smaller_model.add(layers.Dense(4, activation='relu')) # ADD CODE HERE\n",
    "smaller_model.add(layers.Dense(1, activation='sigmoid')) # ADD CODE HEER\n",
    "\n",
    "smaller_model.compile(optimizer='adam', loss='binary_crossentropy', metrics=['acc']) # ADD CODE HERE\n",
    "\n",
    "smaller_model_hist = smaller_model.fit(x_train, y_train, epochs=20, batch_size=512, validation_data=(x_test, y_test))"
   ],
   "execution_count": null,
   "outputs": [
    {
     "output_type": "stream",
     "name": "stdout",
     "text": [
      "Epoch 1/20\n",
      "49/49 [==============================] - 5s 71ms/step - loss: 0.5770 - acc: 0.7612 - val_loss: 0.4746 - val_acc: 0.8575\n",
      "Epoch 2/20\n",
      "49/49 [==============================] - 2s 37ms/step - loss: 0.3849 - acc: 0.8890 - val_loss: 0.3640 - val_acc: 0.8768\n",
      "Epoch 3/20\n",
      "49/49 [==============================] - 2s 34ms/step - loss: 0.2910 - acc: 0.9088 - val_loss: 0.3169 - val_acc: 0.8824\n",
      "Epoch 4/20\n",
      "49/49 [==============================] - 2s 34ms/step - loss: 0.2386 - acc: 0.9242 - val_loss: 0.2934 - val_acc: 0.8871\n",
      "Epoch 5/20\n",
      "49/49 [==============================] - 2s 50ms/step - loss: 0.2050 - acc: 0.9335 - val_loss: 0.2849 - val_acc: 0.8878\n",
      "Epoch 6/20\n",
      "49/49 [==============================] - 2s 44ms/step - loss: 0.1814 - acc: 0.9412 - val_loss: 0.2842 - val_acc: 0.8860\n",
      "Epoch 7/20\n",
      "49/49 [==============================] - 2s 34ms/step - loss: 0.1616 - acc: 0.9474 - val_loss: 0.2898 - val_acc: 0.8836\n",
      "Epoch 8/20\n",
      "49/49 [==============================] - 2s 37ms/step - loss: 0.1467 - acc: 0.9531 - val_loss: 0.2961 - val_acc: 0.8819\n",
      "Epoch 9/20\n",
      "49/49 [==============================] - 2s 38ms/step - loss: 0.1338 - acc: 0.9584 - val_loss: 0.3018 - val_acc: 0.8821\n",
      "Epoch 10/20\n",
      "49/49 [==============================] - 2s 35ms/step - loss: 0.1222 - acc: 0.9627 - val_loss: 0.3129 - val_acc: 0.8780\n",
      "Epoch 11/20\n",
      "49/49 [==============================] - 2s 36ms/step - loss: 0.1127 - acc: 0.9662 - val_loss: 0.3252 - val_acc: 0.8766\n",
      "Epoch 12/20\n",
      "49/49 [==============================] - 2s 50ms/step - loss: 0.1035 - acc: 0.9698 - val_loss: 0.3365 - val_acc: 0.8749\n",
      "Epoch 13/20\n",
      "49/49 [==============================] - 2s 38ms/step - loss: 0.0953 - acc: 0.9732 - val_loss: 0.3517 - val_acc: 0.8730\n",
      "Epoch 14/20\n",
      "49/49 [==============================] - 2s 37ms/step - loss: 0.0881 - acc: 0.9756 - val_loss: 0.3652 - val_acc: 0.8703\n",
      "Epoch 15/20\n",
      "49/49 [==============================] - 2s 34ms/step - loss: 0.0804 - acc: 0.9782 - val_loss: 0.3793 - val_acc: 0.8694\n",
      "Epoch 16/20\n",
      "49/49 [==============================] - 2s 37ms/step - loss: 0.0730 - acc: 0.9822 - val_loss: 0.3961 - val_acc: 0.8672\n",
      "Epoch 17/20\n",
      "49/49 [==============================] - 2s 37ms/step - loss: 0.0656 - acc: 0.9850 - val_loss: 0.4113 - val_acc: 0.8668\n",
      "Epoch 18/20\n",
      "49/49 [==============================] - 2s 50ms/step - loss: 0.0578 - acc: 0.9882 - val_loss: 0.4293 - val_acc: 0.8646\n",
      "Epoch 19/20\n",
      "49/49 [==============================] - 2s 43ms/step - loss: 0.0508 - acc: 0.9908 - val_loss: 0.4479 - val_acc: 0.8636\n",
      "Epoch 20/20\n",
      "49/49 [==============================] - 2s 37ms/step - loss: 0.0445 - acc: 0.9926 - val_loss: 0.4679 - val_acc: 0.8615\n"
     ]
    }
   ]
  },
  {
   "cell_type": "code",
   "metadata": {
    "id": "Lisdi4CWtz3L",
    "outputId": "6459a42b-501c-4b49-b546-bdf1e732c5c2",
    "colab": {
     "base_uri": "https://localhost:8080/"
    }
   },
   "source": [
    "# Clean memory\n",
    "tf.keras.backend.clear_session()\n",
    "del smaller_model\n",
    "gc.collect()"
   ],
   "execution_count": null,
   "outputs": [
    {
     "output_type": "execute_result",
     "data": {
      "text/plain": [
       "1609"
      ]
     },
     "metadata": {},
     "execution_count": 29
    }
   ]
  },
  {
   "cell_type": "markdown",
   "metadata": {
    "id": "2vn7JrmBVnRZ"
   },
   "source": [
    "Here's a comparison of the test losses of the original network and the smaller network. (*Remember:* a lower test loss indicates a better model.)"
   ]
  },
  {
   "cell_type": "code",
   "metadata": {
    "id": "sVBb1pN0VnRa",
    "outputId": "20338436-8dc3-4da1-9f46-75f43c27ec8c",
    "colab": {
     "base_uri": "https://localhost:8080/",
     "height": 279
    }
   },
   "source": [
    "import matplotlib.pyplot as plt\n",
    "\n",
    "epochs = range(1, 21)\n",
    "\n",
    "plt.plot(epochs, original_hist.history['val_loss'], linestyle='-', color='b', label='Original model')\n",
    "\n",
    "plt.plot(epochs, smaller_model_hist.history['val_loss'], linestyle='--', color='r', label='Smaller model')\n",
    "\n",
    "plt.xlabel('Epochs')\n",
    "plt.ylabel('Test loss')\n",
    "plt.legend()\n",
    "\n",
    "plt.show()"
   ],
   "execution_count": null,
   "outputs": [
    {
     "output_type": "display_data",
     "data": {
      "text/plain": [
       "<Figure size 432x288 with 1 Axes>"
      ],
      "image/png": "[encoded data removed]"
     },
     "metadata": {
      "needs_background": "light"
     }
    }
   ]
  },
  {
   "cell_type": "markdown",
   "metadata": {
    "id": "AAHSdUdCVnRa"
   },
   "source": [
    "As you can see, the smaller network starts overfitting later than the original one, and its performance degrades much more slowly once it starts overfitting.\n",
    "\n",
    "Now, for kicks, let's add to this benchmark a network that has much more capacity, far more than the problem would warrant."
   ]
  },
  {
   "cell_type": "code",
   "metadata": {
    "id": "s2PT0yvXVnRa",
    "outputId": "149a06d6-5414-44cb-a9e0-7ce2ed204636",
    "colab": {
     "base_uri": "https://localhost:8080/"
    }
   },
   "source": [
    "bigger_model = models.Sequential()\n",
    "bigger_model.add(layers.Dense(512, activation='relu', input_shape=(10000,)))\n",
    "bigger_model.add(layers.Dense(512, activation='relu'))\n",
    "bigger_model.add(layers.Dense(1, activation='sigmoid'))\n",
    "\n",
    "bigger_model.compile(optimizer='adam', loss='binary_crossentropy', metrics=['acc'])\n",
    "\n",
    "bigger_model_hist = bigger_model.fit(x_train, y_train, epochs=20, batch_size=512, validation_data=(x_test, y_test))"
   ],
   "execution_count": null,
   "outputs": [
    {
     "output_type": "stream",
     "name": "stdout",
     "text": [
      "Epoch 1/20\n",
      "49/49 [==============================] - 19s 371ms/step - loss: 0.3547 - acc: 0.8408 - val_loss: 0.2939 - val_acc: 0.8801\n",
      "Epoch 2/20\n",
      "49/49 [==============================] - 22s 456ms/step - loss: 0.1445 - acc: 0.9477 - val_loss: 0.3199 - val_acc: 0.8750\n",
      "Epoch 3/20\n",
      "49/49 [==============================] - 22s 458ms/step - loss: 0.0460 - acc: 0.9871 - val_loss: 0.4734 - val_acc: 0.8619\n",
      "Epoch 4/20\n",
      "49/49 [==============================] - 17s 350ms/step - loss: 0.0074 - acc: 0.9988 - val_loss: 0.5895 - val_acc: 0.8706\n",
      "Epoch 5/20\n",
      "49/49 [==============================] - 23s 474ms/step - loss: 0.0011 - acc: 1.0000 - val_loss: 0.6790 - val_acc: 0.8700\n",
      "Epoch 6/20\n",
      "49/49 [==============================] - 17s 353ms/step - loss: 6.3683e-04 - acc: 1.0000 - val_loss: 0.7192 - val_acc: 0.8695\n",
      "Epoch 7/20\n",
      "49/49 [==============================] - 22s 450ms/step - loss: 1.4642e-04 - acc: 1.0000 - val_loss: 0.7533 - val_acc: 0.8693\n",
      "Epoch 8/20\n",
      "49/49 [==============================] - 17s 342ms/step - loss: 1.0116e-04 - acc: 1.0000 - val_loss: 0.7778 - val_acc: 0.8697\n",
      "Epoch 9/20\n",
      "49/49 [==============================] - 17s 347ms/step - loss: 7.6240e-05 - acc: 1.0000 - val_loss: 0.7979 - val_acc: 0.8695\n",
      "Epoch 10/20\n",
      "49/49 [==============================] - 17s 351ms/step - loss: 6.0104e-05 - acc: 1.0000 - val_loss: 0.8146 - val_acc: 0.8697\n",
      "Epoch 11/20\n",
      "49/49 [==============================] - 16s 335ms/step - loss: 4.8852e-05 - acc: 1.0000 - val_loss: 0.8299 - val_acc: 0.8696\n",
      "Epoch 12/20\n",
      "49/49 [==============================] - 22s 453ms/step - loss: 4.0473e-05 - acc: 1.0000 - val_loss: 0.8437 - val_acc: 0.8697\n",
      "Epoch 13/20\n",
      "49/49 [==============================] - 17s 354ms/step - loss: 3.4043e-05 - acc: 1.0000 - val_loss: 0.8559 - val_acc: 0.8696\n",
      "Epoch 14/20\n",
      "49/49 [==============================] - 22s 441ms/step - loss: 2.9026e-05 - acc: 1.0000 - val_loss: 0.8677 - val_acc: 0.8696\n",
      "Epoch 15/20\n",
      "49/49 [==============================] - 17s 351ms/step - loss: 2.4930e-05 - acc: 1.0000 - val_loss: 0.8787 - val_acc: 0.8698\n",
      "Epoch 16/20\n",
      "49/49 [==============================] - 22s 441ms/step - loss: 2.1649e-05 - acc: 1.0000 - val_loss: 0.8892 - val_acc: 0.8698\n",
      "Epoch 17/20\n",
      "49/49 [==============================] - 22s 459ms/step - loss: 1.8911e-05 - acc: 1.0000 - val_loss: 0.8997 - val_acc: 0.8696\n",
      "Epoch 18/20\n",
      "49/49 [==============================] - 17s 350ms/step - loss: 1.6641e-05 - acc: 1.0000 - val_loss: 0.9090 - val_acc: 0.8699\n",
      "Epoch 19/20\n",
      "49/49 [==============================] - 17s 359ms/step - loss: 1.4719e-05 - acc: 1.0000 - val_loss: 0.9186 - val_acc: 0.8698\n",
      "Epoch 20/20\n",
      "49/49 [==============================] - 16s 332ms/step - loss: 1.3078e-05 - acc: 1.0000 - val_loss: 0.9273 - val_acc: 0.8697\n"
     ]
    }
   ]
  },
  {
   "cell_type": "markdown",
   "metadata": {
    "id": "MJ6fEaA6VnRa"
   },
   "source": [
    "Here's how the bigger network fares compared to the other ones."
   ]
  },
  {
   "cell_type": "code",
   "metadata": {
    "id": "u_prjmBmVnRc",
    "outputId": "40f8a5b5-30e9-430f-b92e-7f97a5e5208f",
    "colab": {
     "base_uri": "https://localhost:8080/",
     "height": 279
    }
   },
   "source": [
    "plt.plot(epochs, original_hist.history['val_loss'], linestyle='-', color='b', label='Original model')\n",
    "\n",
    "plt.plot(epochs, smaller_model_hist.history['val_loss'], linestyle='--', color='r', label='Smaller model')\n",
    "\n",
    "plt.plot(epochs, bigger_model_hist.history['val_loss'], linestyle=':', color='g', label='Bigger model')\n",
    "\n",
    "plt.xlabel('Epochs')\n",
    "plt.ylabel('Test loss')\n",
    "plt.legend()\n",
    "\n",
    "plt.show()"
   ],
   "execution_count": null,
   "outputs": [
    {
     "output_type": "display_data",
     "data": {
      "text/plain": [
       "<Figure size 432x288 with 1 Axes>"
      ],
      "image/png": "[encoded data removed]"
     },
     "metadata": {
      "needs_background": "light"
     }
    }
   ]
  },
  {
   "cell_type": "markdown",
   "metadata": {
    "id": "zuidB0nTVnRc"
   },
   "source": [
    "\n",
    "The bigger network starts overfitting almost right away and much more severely.\n",
    "\n",
    "Meanwhile, here are the training losses for our two networks:"
   ]
  },
  {
   "cell_type": "code",
   "metadata": {
    "id": "l1kfNWahVnRc",
    "outputId": "94b03ff2-b11b-45b7-9574-c67c1cd6347b",
    "colab": {
     "base_uri": "https://localhost:8080/",
     "height": 281
    }
   },
   "source": [
    "plt.plot(epochs, original_hist.history['loss'], linestyle='-', color='b', label='Original model')\n",
    "\n",
    "plt.plot(epochs, smaller_model_hist.history['loss'], linestyle='--', color='r', label='Smaller model')\n",
    "\n",
    "plt.plot(epochs, bigger_model_hist.history['loss'], linestyle=':', color='g', label='Bigger model')\n",
    "\n",
    "plt.xlabel('Epochs')\n",
    "plt.ylabel('Training loss')\n",
    "plt.legend()\n",
    "\n",
    "plt.show()"
   ],
   "execution_count": null,
   "outputs": [
    {
     "output_type": "display_data",
     "data": {
      "text/plain": [
       "<Figure size 432x288 with 1 Axes>"
      ],
      "image/png": "[encoded data removed]"
     },
     "metadata": {
      "needs_background": "light"
     }
    }
   ]
  },
  {
   "cell_type": "markdown",
   "metadata": {
    "id": "otz-FLx2VnRc"
   },
   "source": [
    "As you can see, the bigger network gets its training loss near zero very quickly. The more capacity the network has, the quicker it will be \n",
    "able to model the training data (resulting in a low training loss), but the more susceptible it is to overfitting (resulting in a large \n",
    "difference between the training and test losses)."
   ]
  },
  {
   "cell_type": "code",
   "metadata": {
    "id": "kjCCVn_xuAyq",
    "outputId": "0e78c8db-0bf4-4453-b8b7-d6c4993ee8e7",
    "colab": {
     "base_uri": "https://localhost:8080/"
    }
   },
   "source": [
    "#Clean memory\n",
    "tf.keras.backend.clear_session()\n",
    "del bigger_model\n",
    "gc.collect()"
   ],
   "execution_count": null,
   "outputs": [
    {
     "output_type": "execute_result",
     "data": {
      "text/plain": [
       "12436"
      ]
     },
     "metadata": {},
     "execution_count": 34
    }
   ]
  },
  {
   "cell_type": "markdown",
   "metadata": {
    "id": "BMWdPxt6VnRe"
   },
   "source": [
    "## 2.2 Norm penalization\n",
    "\n",
    "\n",
    "You may be familiar with _Occam's Razor_ principle: given two explanations for something, the explanation most likely to be correct is the \"simplest\" one, the one that makes the least amount of assumptions. This also applies to the models learned by neural networks: given some training data and a network architecture, there are multiple sets of weights values (multiple _models_) that could explain the data, and simpler models are less likely to overfit than complex ones.\n",
    "\n",
    "A \"simple model\" in this context is a model where the distribution of parameter values has less entropy (or a model with fewer parameters altogether, as we saw in the section above). Thus a common way to mitigate overfitting is to put constraints on the complexity of a network by forcing its weights to only take small values, which makes the distribution of weight values more \"regular\". This is called *norm penalization*, and it is done by adding to the loss function of the network a cost associated with having large weights. This  cost comes in two flavors:\n",
    "\n",
    "- *L1-norm penalization*, where the cost added is proportional to the absolute value of the weights coefficients.\n",
    "- *L2-norm penalization*, where the cost added is proportional to the square of the value of the weights coefficients. \n",
    "\n",
    "Let's add a L2-norm penalization to our movie review classification network."
   ]
  },
  {
   "cell_type": "code",
   "metadata": {
    "id": "-EwN4PqEVnRe"
   },
   "source": [
    "from keras import regularizers\n",
    "\n",
    "l2_model = models.Sequential()\n",
    "l2_model.add(layers.Dense(16, kernel_regularizer=regularizers.l2(0.001), activation='relu', input_shape=(10000,)))\n",
    "l2_model.add(layers.Dense(16, kernel_regularizer=regularizers.l2(0.001), activation='relu'))\n",
    "l2_model.add(layers.Dense(1, activation='sigmoid'))\n",
    "\n",
    "l2_model.compile(optimizer='rmsprop', loss='binary_crossentropy', metrics=['acc'])"
   ],
   "execution_count": null,
   "outputs": []
  },
  {
   "cell_type": "markdown",
   "metadata": {
    "id": "r_PsSLIbVnRe"
   },
   "source": [
    "Hereabove, `l2(0.001)` means that every coefficient in the weight matrix of the layer will add `0.001 * weight_coefficient_value` to the total loss of \n",
    "the network. Note that because this penalty is _only added at training time_, the loss for this network will be much higher at training \n",
    "than at test time.\n",
    "\n",
    "Here's the impact of our L2-norm penalization."
   ]
  },
  {
   "cell_type": "code",
   "metadata": {
    "id": "9SDAoCA9VnRh",
    "outputId": "c4871467-cbeb-4e7d-ff93-0eed63c84322",
    "colab": {
     "base_uri": "https://localhost:8080/"
    }
   },
   "source": [
    "l2_model_hist = l2_model.fit(x_train, y_train, epochs=20, batch_size=512, validation_data=(x_test, y_test))"
   ],
   "execution_count": null,
   "outputs": [
    {
     "output_type": "stream",
     "name": "stdout",
     "text": [
      "Epoch 1/20\n",
      "49/49 [==============================] - 6s 104ms/step - loss: 0.5318 - acc: 0.8024 - val_loss: 0.4024 - val_acc: 0.8784\n",
      "Epoch 2/20\n",
      "49/49 [==============================] - 2s 39ms/step - loss: 0.3335 - acc: 0.9006 - val_loss: 0.3398 - val_acc: 0.8875\n",
      "Epoch 3/20\n",
      "49/49 [==============================] - 2s 39ms/step - loss: 0.2767 - acc: 0.9164 - val_loss: 0.3298 - val_acc: 0.8866\n",
      "Epoch 4/20\n",
      "49/49 [==============================] - 2s 37ms/step - loss: 0.2506 - acc: 0.9268 - val_loss: 0.3281 - val_acc: 0.8874\n",
      "Epoch 5/20\n",
      "49/49 [==============================] - 2s 40ms/step - loss: 0.2331 - acc: 0.9352 - val_loss: 0.3353 - val_acc: 0.8844\n",
      "Epoch 6/20\n",
      "49/49 [==============================] - 3s 64ms/step - loss: 0.2259 - acc: 0.9363 - val_loss: 0.3447 - val_acc: 0.8821\n",
      "Epoch 7/20\n",
      "49/49 [==============================] - 2s 37ms/step - loss: 0.2158 - acc: 0.9421 - val_loss: 0.3675 - val_acc: 0.8762\n",
      "Epoch 8/20\n",
      "49/49 [==============================] - 2s 38ms/step - loss: 0.2119 - acc: 0.9424 - val_loss: 0.4011 - val_acc: 0.8658\n",
      "Epoch 9/20\n",
      "49/49 [==============================] - 2s 37ms/step - loss: 0.2067 - acc: 0.9454 - val_loss: 0.3756 - val_acc: 0.8744\n",
      "Epoch 10/20\n",
      "49/49 [==============================] - 2s 40ms/step - loss: 0.1972 - acc: 0.9504 - val_loss: 0.3718 - val_acc: 0.8765\n",
      "Epoch 11/20\n",
      "49/49 [==============================] - 2s 39ms/step - loss: 0.1970 - acc: 0.9518 - val_loss: 0.3781 - val_acc: 0.8765\n",
      "Epoch 12/20\n",
      "49/49 [==============================] - 3s 63ms/step - loss: 0.1928 - acc: 0.9528 - val_loss: 0.3843 - val_acc: 0.8748\n",
      "Epoch 13/20\n",
      "49/49 [==============================] - 2s 39ms/step - loss: 0.1870 - acc: 0.9552 - val_loss: 0.4091 - val_acc: 0.8697\n",
      "Epoch 14/20\n",
      "49/49 [==============================] - 2s 39ms/step - loss: 0.1840 - acc: 0.9570 - val_loss: 0.4413 - val_acc: 0.8623\n",
      "Epoch 15/20\n",
      "49/49 [==============================] - 2s 40ms/step - loss: 0.1783 - acc: 0.9599 - val_loss: 0.4289 - val_acc: 0.8636\n",
      "Epoch 16/20\n",
      "49/49 [==============================] - 2s 38ms/step - loss: 0.1775 - acc: 0.9590 - val_loss: 0.4231 - val_acc: 0.8699\n",
      "Epoch 17/20\n",
      "49/49 [==============================] - 2s 38ms/step - loss: 0.1682 - acc: 0.9630 - val_loss: 0.5060 - val_acc: 0.8503\n",
      "Epoch 18/20\n",
      "49/49 [==============================] - 3s 62ms/step - loss: 0.1713 - acc: 0.9622 - val_loss: 0.4306 - val_acc: 0.8691\n",
      "Epoch 19/20\n",
      "49/49 [==============================] - 2s 39ms/step - loss: 0.1655 - acc: 0.9659 - val_loss: 0.5572 - val_acc: 0.8331\n",
      "Epoch 20/20\n",
      "49/49 [==============================] - 2s 39ms/step - loss: 0.1615 - acc: 0.9675 - val_loss: 0.4314 - val_acc: 0.8703\n"
     ]
    }
   ]
  },
  {
   "cell_type": "code",
   "metadata": {
    "id": "tiAJj6A5uKy1",
    "outputId": "2f7199dc-bfe7-442a-e548-db6eb168b2a6",
    "colab": {
     "base_uri": "https://localhost:8080/"
    }
   },
   "source": [
    "#Clean memory\n",
    "tf.keras.backend.clear_session()\n",
    "del l2_model\n",
    "gc.collect()"
   ],
   "execution_count": null,
   "outputs": [
    {
     "output_type": "execute_result",
     "data": {
      "text/plain": [
       "1610"
      ]
     },
     "metadata": {},
     "execution_count": 37
    }
   ]
  },
  {
   "cell_type": "code",
   "metadata": {
    "id": "nkbbnqJcVnRj",
    "outputId": "8a4f83f8-bbf3-43d3-a9e1-7d230c462945",
    "colab": {
     "base_uri": "https://localhost:8080/",
     "height": 279
    }
   },
   "source": [
    "plt.plot(epochs, original_hist.history['val_loss'], linestyle='-', color='b', label='Original model')\n",
    "\n",
    "plt.plot(epochs, l2_model_hist.history['val_loss'], linestyle='--', color='r', label='L2-penalized model')\n",
    "\n",
    "plt.xlabel('Epochs')\n",
    "plt.ylabel('Validation loss')\n",
    "plt.legend()\n",
    "\n",
    "plt.show()"
   ],
   "execution_count": null,
   "outputs": [
    {
     "output_type": "display_data",
     "data": {
      "text/plain": [
       "<Figure size 432x288 with 1 Axes>"
      ],
      "image/png": "[encoded data removed]"
     },
     "metadata": {
      "needs_background": "light"
     }
    }
   ]
  },
  {
   "cell_type": "markdown",
   "metadata": {
    "id": "gH-ZSbOxVnRj"
   },
   "source": [
    "As you can see, the model with L2-norm penalization has become much more resistant to overfitting than the original model, even though both models have the same number of parameters.\n",
    "\n",
    "As alternatives to L2-norm regularization, you could use one of the following Keras weight regularizers."
   ]
  },
  {
   "cell_type": "code",
   "metadata": {
    "id": "vd2fUJ23VnRj"
   },
   "source": [
    "from keras import regularizers\n",
    "\n",
    "# L1 regularization\n",
    "regularizers.l1(0.001)\n",
    "\n",
    "# L1 and L2 regularization at the same time\n",
    "regularizers.l1_l2(l1=0.001, l2=0.001);"
   ],
   "execution_count": null,
   "outputs": []
  },
  {
   "cell_type": "markdown",
   "metadata": {
    "id": "EesaDIDiVnRk"
   },
   "source": [
    "## 2.3 Dropout\n",
    "\n",
    "Dropout is one of the most effective and most commonly used regularization techniques for neural networks. Applied to a layer, it consists of randomly \"dropping out\" (i.e. setting to zero) a number of output features of the layer during training. Let's say a given layer would normally have returned a vector `[0.2, 0.5, 1.3, 0.8, 1.1]` for a \n",
    "given input sample during training; after applying dropout, this vector will have a few zero entries distributed at random, e.g. `[0, 0.5, 1.3, 0, 1.1]`. The \"dropout rate\" is the fraction of the features that are being zeroed-out; it is usually set between 0.2 and 0.5. At test time, no units are dropped out, and instead the layer's output values are scaled down by a factor equal to the dropout rate, so as to balance for the fact that more units are active than at training time.\n",
    "\n",
    "This technique may seem strange and arbitrary. Why would this help reduce overfitting? Its author, Geoff Hinton, has said that he was inspired, among other things, by a fraud prevention mechanism used by banks -- in his own words: *\"I went to my bank. The tellers kept changing and I asked one of them why. He said he didn’t know but they got moved around a lot. I figured it must be because it would require cooperation between employees to successfully defraud the bank. This made me realize that randomly removing a different subset of neurons on each example would prevent conspiracies and thus reduce overfitting\"*.\n",
    "\n",
    "The core idea is that introducing noise in the output values of a layer can break up happenstance patterns that are not significant (what Hinton refers to as \"conspiracies\"), which the network would start memorizing if no noise was present. \n",
    "\n",
    "In Keras, you can introduce dropout in a network via the `Dropout` layer, which gets applied to the output of layer right before it. Let's add two `Dropout` layers in our IMDB network to see how well they do at reducing overfitting."
   ]
  },
  {
   "cell_type": "markdown",
   "metadata": {
    "id": "YFOxhpiTVnRk"
   },
   "source": [
    "## ===== Exercise =====\n",
    "\n",
    "Complete the code below by adding [`Dropout`](https://keras.io/api/layers/regularization_layers/dropout/) layers with `rate=0.5`."
   ]
  },
  {
   "cell_type": "code",
   "metadata": {
    "id": "ELOc2tPoVnRo",
    "outputId": "a5fa1993-c799-4e2b-bf21-77beb7952dd2",
    "colab": {
     "base_uri": "https://localhost:8080/"
    }
   },
   "source": [
    "dpt_model = models.Sequential()\n",
    "dpt_model.add(layers.Dense(16, activation='relu', input_shape=(10000,)))\n",
    "dpt_model.add(layers.Dropout(0.5)) # ADD CODE HERE\n",
    "dpt_model.add(layers.Dense(16, activation='relu'))\n",
    "dpt_model.add(layers.Dropout(0.5)) # ADD CODE HERE\n",
    "dpt_model.add(layers.Dense(1, activation='sigmoid'))\n",
    "\n",
    "dpt_model.compile(optimizer='rmsprop', loss='binary_crossentropy', metrics=['acc'])\n",
    "\n",
    "dpt_model_hist = dpt_model.fit(x_train, y_train, epochs=20, batch_size=512, validation_data=(x_test, y_test))"
   ],
   "execution_count": null,
   "outputs": [
    {
     "output_type": "stream",
     "name": "stdout",
     "text": [
      "Epoch 1/20\n",
      "49/49 [==============================] - 7s 132ms/step - loss: 0.6345 - acc: 0.6638 - val_loss: 0.5310 - val_acc: 0.8334\n",
      "Epoch 2/20\n",
      "49/49 [==============================] - 4s 79ms/step - loss: 0.4897 - acc: 0.7938 - val_loss: 0.3833 - val_acc: 0.8766\n",
      "Epoch 3/20\n",
      "49/49 [==============================] - 3s 62ms/step - loss: 0.3914 - acc: 0.8562 - val_loss: 0.3168 - val_acc: 0.8811\n",
      "Epoch 4/20\n",
      "49/49 [==============================] - 8s 170ms/step - loss: 0.3280 - acc: 0.8846 - val_loss: 0.2886 - val_acc: 0.8874\n",
      "Epoch 5/20\n",
      "49/49 [==============================] - 3s 62ms/step - loss: 0.2857 - acc: 0.9048 - val_loss: 0.2800 - val_acc: 0.8880\n",
      "Epoch 6/20\n",
      "49/49 [==============================] - 3s 62ms/step - loss: 0.2513 - acc: 0.9144 - val_loss: 0.2868 - val_acc: 0.8873\n",
      "Epoch 7/20\n",
      "49/49 [==============================] - 3s 69ms/step - loss: 0.2284 - acc: 0.9247 - val_loss: 0.2985 - val_acc: 0.8874\n",
      "Epoch 8/20\n",
      "49/49 [==============================] - 3s 62ms/step - loss: 0.2078 - acc: 0.9338 - val_loss: 0.3127 - val_acc: 0.8856\n",
      "Epoch 9/20\n",
      "49/49 [==============================] - 3s 63ms/step - loss: 0.1891 - acc: 0.9385 - val_loss: 0.3218 - val_acc: 0.8826\n",
      "Epoch 10/20\n",
      "49/49 [==============================] - 3s 61ms/step - loss: 0.1711 - acc: 0.9444 - val_loss: 0.3415 - val_acc: 0.8827\n",
      "Epoch 11/20\n",
      "49/49 [==============================] - 4s 75ms/step - loss: 0.1592 - acc: 0.9494 - val_loss: 0.3651 - val_acc: 0.8819\n",
      "Epoch 12/20\n",
      "49/49 [==============================] - 3s 62ms/step - loss: 0.1495 - acc: 0.9525 - val_loss: 0.3815 - val_acc: 0.8807\n",
      "Epoch 13/20\n",
      "49/49 [==============================] - 3s 62ms/step - loss: 0.1419 - acc: 0.9553 - val_loss: 0.4101 - val_acc: 0.8790\n",
      "Epoch 14/20\n",
      "49/49 [==============================] - 3s 62ms/step - loss: 0.1367 - acc: 0.9585 - val_loss: 0.4300 - val_acc: 0.8793\n",
      "Epoch 15/20\n",
      "49/49 [==============================] - 4s 77ms/step - loss: 0.1271 - acc: 0.9604 - val_loss: 0.4435 - val_acc: 0.8755\n",
      "Epoch 16/20\n",
      "49/49 [==============================] - 3s 62ms/step - loss: 0.1211 - acc: 0.9641 - val_loss: 0.4567 - val_acc: 0.8747\n",
      "Epoch 17/20\n",
      "49/49 [==============================] - 3s 61ms/step - loss: 0.1154 - acc: 0.9642 - val_loss: 0.4988 - val_acc: 0.8759\n",
      "Epoch 18/20\n",
      "49/49 [==============================] - 3s 62ms/step - loss: 0.1107 - acc: 0.9662 - val_loss: 0.5164 - val_acc: 0.8768\n",
      "Epoch 19/20\n",
      "49/49 [==============================] - 4s 74ms/step - loss: 0.1110 - acc: 0.9671 - val_loss: 0.5218 - val_acc: 0.8729\n",
      "Epoch 20/20\n",
      "49/49 [==============================] - 3s 68ms/step - loss: 0.1052 - acc: 0.9686 - val_loss: 0.5283 - val_acc: 0.8726\n"
     ]
    }
   ]
  },
  {
   "cell_type": "markdown",
   "metadata": {
    "id": "0X8QuEXQVnRp"
   },
   "source": [
    "Let's plot the results."
   ]
  },
  {
   "cell_type": "code",
   "metadata": {
    "id": "ngBmz3-ZVnRp",
    "outputId": "d46ad76c-6aa2-4ee3-e531-3f0464cae384",
    "colab": {
     "base_uri": "https://localhost:8080/",
     "height": 279
    }
   },
   "source": [
    "plt.plot(epochs, original_hist.history['val_loss'], linestyle='-', color='b', label='Original model')\n",
    "\n",
    "plt.plot(epochs, dpt_model_hist.history['val_loss'], linestyle='--', color='r', label='Dropout-regularized model')\n",
    "\n",
    "plt.xlabel('Epochs')\n",
    "plt.ylabel('Validation loss')\n",
    "plt.legend()\n",
    "\n",
    "plt.show()"
   ],
   "execution_count": null,
   "outputs": [
    {
     "output_type": "display_data",
     "data": {
      "text/plain": [
       "<Figure size 432x288 with 1 Axes>"
      ],
      "image/png": "[encoded data removed]"
     },
     "metadata": {
      "needs_background": "light"
     }
    }
   ]
  },
  {
   "cell_type": "markdown",
   "metadata": {
    "id": "R8i18gJeVnRs"
   },
   "source": [
    "Again, a clear improvement over the original network."
   ]
  },
  {
   "cell_type": "markdown",
   "metadata": {
    "id": "jEu34iO3VnRt"
   },
   "source": [
    "# 3. Conclusion\n",
    "\n",
    "To recap, here the most common ways to prevent overfitting in neural networks:\n",
    "\n",
    "* Getting more training data.\n",
    "* Reducing the capacity of the network.\n",
    "* Stopping the training early.\n",
    "* Adding norm penalization.\n",
    "* Adding dropout."
   ]
  },
  {
   "cell_type": "markdown",
   "metadata": {
    "id": "Ltp3n3RgVnRu"
   },
   "source": [
    "---"
   ]
  }
 ]
}
